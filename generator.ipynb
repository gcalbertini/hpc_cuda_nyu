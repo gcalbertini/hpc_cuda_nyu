{
 "cells": [
  {
   "cell_type": "code",
   "execution_count": 5,
   "metadata": {},
   "outputs": [],
   "source": [
    "import numpy as np\n",
    "import pandas as pd\n",
    "import os  \n",
    "\n",
    "N = 2 #change dimensions\n",
    "M = 4\n",
    "coeff = np.random.rand(M)  # rand 0 to 1\n",
    "b = 123 # intercept\n",
    "X = np.random.rand(N, M)\n",
    "\n",
    "mu, sigma = 0, 5  # mean and standard deviation for noise\n",
    "delta = np.random.normal(mu, sigma, N)\n",
    "y = X @ coeff + b + delta\n",
    "\n",
    "#data = np.c_[y,X]\n",
    "df_X = pd.DataFrame(X)\n",
    "df_Y = pd.DataFrame(y)\n",
    "\n",
    "os.makedirs('generated_data', exist_ok=True)  \n",
    "df_X.to_csv('generated_data/df_X.csv', index=False, header=0)  \n",
    "df_Y.to_csv('generated_data/df_y.csv', index=False, header=0)  \n"
   ]
  },
  {
   "cell_type": "code",
   "execution_count": null,
   "metadata": {},
   "outputs": [],
   "source": []
  }
 ],
 "metadata": {
  "interpreter": {
   "hash": "b7f43726a79b79bb18500e3546bed249e1c1aa16f3227c093295a5c944512c00"
  },
  "kernelspec": {
   "display_name": "Python 3.9.7 ('base')",
   "language": "python",
   "name": "python3"
  },
  "language_info": {
   "codemirror_mode": {
    "name": "ipython",
    "version": 3
   },
   "file_extension": ".py",
   "mimetype": "text/x-python",
   "name": "python",
   "nbconvert_exporter": "python",
   "pygments_lexer": "ipython3",
   "version": "3.9.7"
  },
  "orig_nbformat": 4
 },
 "nbformat": 4,
 "nbformat_minor": 2
}
