{
 "cells": [
  {
   "cell_type": "code",
   "execution_count": null,
   "metadata": {},
   "outputs": [],
   "source": [
    "import numpy as np\n",
    "import pandas as pd\n",
    "import os  \n",
    "\n",
    "N = 1000 #change dimension\n",
    "M = 10\n",
    "coeff = np.random.rand(N)*M  # rand 0 to M\n",
    "b = 123 # intercept\n",
    "X = np.random.rand(N, N)*M\n",
    "\n",
    "mu, sigma = 0, 5  # mean and standard deviation for noise\n",
    "delta = np.random.normal(mu, sigma, N)\n",
    "y = X @ coeff + b + delta\n",
    "\n",
    "data = np.c_[y,X]\n",
    "df = pd.DataFrame(data)\n",
    "\n",
    "#os.makedirs('generated_data', exist_ok=True)  \n",
    "#df.to_csv('generated_data/data.csv', index=False)  \n"
   ]
  }
 ],
 "metadata": {
  "language_info": {
   "name": "python"
  },
  "orig_nbformat": 4
 },
 "nbformat": 4,
 "nbformat_minor": 2
}
